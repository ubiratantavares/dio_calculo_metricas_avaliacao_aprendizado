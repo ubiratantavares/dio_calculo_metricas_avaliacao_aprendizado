{
  "nbformat": 4,
  "nbformat_minor": 0,
  "metadata": {
    "colab": {
      "provenance": [],
      "gpuType": "V28"
    },
    "kernelspec": {
      "name": "python3",
      "display_name": "Python 3"
    },
    "accelerator": "TPU"
  },
  "cells": [
    {
      "cell_type": "code",
      "metadata": {
        "id": "Nr2ZyMJk9bbn"
      },
      "source": [
        "# Instalando o TensorFlow\n",
        "!pip install -q tensorflow-gpu==2.10.0"
      ],
      "execution_count": 67,
      "outputs": []
    },
    {
      "cell_type": "code",
      "metadata": {
        "id": "9GOTUsN2vHZr"
      },
      "source": [
        "# Importando bibliotecas\n",
        "from tensorflow.keras import datasets, layers, models, callbacks\n",
        "import tensorflow as tf\n",
        "import numpy as np\n",
        "import matplotlib.pyplot as plt\n",
        "import seaborn as sns\n",
        "import pandas as pd\n",
        "import io\n",
        "import os"
      ],
      "execution_count": 68,
      "outputs": []
    },
    {
      "cell_type": "code",
      "metadata": {
        "id": "Wickr6O73HpO",
        "outputId": "8a93ed95-1dcf-4cf1-d3c5-1a66ff5aec5f",
        "colab": {
          "base_uri": "https://localhost:8080/"
        }
      },
      "source": [
        "# Verificando a versão do TensorFlow\n",
        "print(\"Versão do TensorFlow:\", tf.__version__)"
      ],
      "execution_count": 69,
      "outputs": [
        {
          "output_type": "stream",
          "name": "stdout",
          "text": [
            "Versão do TensorFlow: 2.10.0\n"
          ]
        }
      ]
    },
    {
      "cell_type": "code",
      "metadata": {
        "id": "8I41zgjVvF1g"
      },
      "source": [
        "# Carregando o dataset MNIST\n",
        "(train_images, train_labels), (test_images, test_labels) = datasets.mnist.load_data()"
      ],
      "execution_count": 70,
      "outputs": []
    },
    {
      "cell_type": "code",
      "source": [
        "# Pré-processando dos dados\n",
        "train_images = train_images.reshape((60000, 28, 28, 1)).astype('float32') / 255.0\n",
        "test_images = test_images.reshape((10000, 28, 28, 1)).astype('float32') / 255.0"
      ],
      "metadata": {
        "id": "9Oq_4_Empirc"
      },
      "execution_count": 71,
      "outputs": []
    },
    {
      "cell_type": "code",
      "source": [
        "# Classes do modelo\n",
        "classes=[0,1,2,3,4,5,6,7,8,9]"
      ],
      "metadata": {
        "id": "7fiTl9NFp5mm"
      },
      "execution_count": 72,
      "outputs": []
    },
    {
      "cell_type": "code",
      "metadata": {
        "id": "_eD7E_m39bis"
      },
      "source": [
        "# Construindo o modelo\n",
        "model = models.Sequential([\n",
        "    layers.Conv2D(32, (3, 3), activation='relu', input_shape=(28, 28, 1)),\n",
        "    layers.MaxPooling2D((2, 2)),\n",
        "    layers.Conv2D(64, (3, 3), activation='relu'),\n",
        "    layers.MaxPooling2D((2, 2)),\n",
        "    layers.Conv2D(64, (3, 3), activation='relu'),\n",
        "    layers.Flatten(),\n",
        "    layers.Dense(64, activation='relu'),\n",
        "    layers.Dense(10, activation='softmax')\n",
        "])"
      ],
      "execution_count": 73,
      "outputs": []
    },
    {
      "cell_type": "code",
      "metadata": {
        "id": "QOIbCQ3T9bml"
      },
      "source": [
        "# Compilando o modlelo\n",
        "model.compile(optimizer='adam',\n",
        "                         loss='sparse_categorical_crossentropy',\n",
        "                         metrics=['accuracy'])"
      ],
      "execution_count": 74,
      "outputs": []
    },
    {
      "cell_type": "code",
      "source": [
        "# Treinando o modelo\n",
        "model.fit(train_images, train_labels, epochs=5, validation_data=(test_images, test_labels))"
      ],
      "metadata": {
        "colab": {
          "base_uri": "https://localhost:8080/"
        },
        "id": "WYVPOFYOqk24",
        "outputId": "7932246d-12f2-4b1c-fafd-bac6eeae25f1"
      },
      "execution_count": 75,
      "outputs": [
        {
          "output_type": "stream",
          "name": "stdout",
          "text": [
            "Epoch 1/5\n",
            "1875/1875 [==============================] - 52s 27ms/step - loss: 0.1495 - accuracy: 0.9548 - val_loss: 0.0526 - val_accuracy: 0.9831\n",
            "Epoch 2/5\n",
            "1875/1875 [==============================] - 51s 27ms/step - loss: 0.0474 - accuracy: 0.9850 - val_loss: 0.0395 - val_accuracy: 0.9874\n",
            "Epoch 3/5\n",
            "1875/1875 [==============================] - 51s 27ms/step - loss: 0.0338 - accuracy: 0.9891 - val_loss: 0.0311 - val_accuracy: 0.9907\n",
            "Epoch 4/5\n",
            "1875/1875 [==============================] - 51s 27ms/step - loss: 0.0264 - accuracy: 0.9913 - val_loss: 0.0273 - val_accuracy: 0.9914\n",
            "Epoch 5/5\n",
            "1875/1875 [==============================] - 51s 27ms/step - loss: 0.0205 - accuracy: 0.9935 - val_loss: 0.0282 - val_accuracy: 0.9918\n"
          ]
        },
        {
          "output_type": "execute_result",
          "data": {
            "text/plain": [
              "<keras.callbacks.History at 0x7c6d15e9ff40>"
            ]
          },
          "metadata": {},
          "execution_count": 75
        }
      ]
    },
    {
      "cell_type": "code",
      "metadata": {
        "id": "SHkdG_lehhMU",
        "colab": {
          "base_uri": "https://localhost:8080/"
        },
        "outputId": "244a6a17-afd0-424b-9f14-13c097e721c6"
      },
      "source": [
        "# Gerando as previsões das classes\n",
        "y_pred = np.argmax(model.predict(test_images), axis=-1)"
      ],
      "execution_count": 76,
      "outputs": [
        {
          "output_type": "stream",
          "name": "stdout",
          "text": [
            "313/313 [==============================] - 2s 6ms/step\n"
          ]
        }
      ]
    },
    {
      "cell_type": "code",
      "source": [
        "# Gerando a matriz de confusão\n",
        "con_mat = tf.math.confusion_matrix(labels=test_labels, predictions=y_pred).numpy()\n",
        "print(con_mat)"
      ],
      "metadata": {
        "colab": {
          "base_uri": "https://localhost:8080/"
        },
        "id": "x_vMyzBGrI5Z",
        "outputId": "f351a67b-b57c-481a-84ee-b8e227f11f86"
      },
      "execution_count": 77,
      "outputs": [
        {
          "output_type": "stream",
          "name": "stdout",
          "text": [
            "[[ 978    1    0    0    0    0    0    1    0    0]\n",
            " [   0 1135    0    0    0    0    0    0    0    0]\n",
            " [   1    3 1023    0    1    0    0    4    0    0]\n",
            " [   0    1    2 1004    0    2    0    0    1    0]\n",
            " [   0    0    0    0  970    0    2    0    1    9]\n",
            " [   2    0    0    4    0  882    2    0    1    1]\n",
            " [   4    5    2    0    0    2  943    0    2    0]\n",
            " [   0    4    2    0    0    0    0 1019    1    2]\n",
            " [   4    0    0    0    1    0    0    0  968    1]\n",
            " [   0    1    0    0    2    3    1    4    2  996]]\n"
          ]
        }
      ]
    },
    {
      "cell_type": "code",
      "source": [
        "con_mat_norm = np.around(con_mat.astype('float') / con_mat.sum(axis=1)[:, np.newaxis], decimals=2)\n",
        "\n",
        "con_mat_df = pd.DataFrame(con_mat_norm, index=classes, columns=classes)\n",
        "\n",
        "print(con_mat_df)"
      ],
      "metadata": {
        "colab": {
          "base_uri": "https://localhost:8080/"
        },
        "id": "wxz3FluY3iaI",
        "outputId": "9812be0e-2722-47e5-c8e2-cc26d6d46100"
      },
      "execution_count": 78,
      "outputs": [
        {
          "output_type": "stream",
          "name": "stdout",
          "text": [
            "     0     1     2     3     4     5     6     7     8     9\n",
            "0  1.0  0.00  0.00  0.00  0.00  0.00  0.00  0.00  0.00  0.00\n",
            "1  0.0  1.00  0.00  0.00  0.00  0.00  0.00  0.00  0.00  0.00\n",
            "2  0.0  0.00  0.99  0.00  0.00  0.00  0.00  0.00  0.00  0.00\n",
            "3  0.0  0.00  0.00  0.99  0.00  0.00  0.00  0.00  0.00  0.00\n",
            "4  0.0  0.00  0.00  0.00  0.99  0.00  0.00  0.00  0.00  0.01\n",
            "5  0.0  0.00  0.00  0.00  0.00  0.99  0.00  0.00  0.00  0.00\n",
            "6  0.0  0.01  0.00  0.00  0.00  0.00  0.98  0.00  0.00  0.00\n",
            "7  0.0  0.00  0.00  0.00  0.00  0.00  0.00  0.99  0.00  0.00\n",
            "8  0.0  0.00  0.00  0.00  0.00  0.00  0.00  0.00  0.99  0.00\n",
            "9  0.0  0.00  0.00  0.00  0.00  0.00  0.00  0.00  0.00  0.99\n"
          ]
        }
      ]
    },
    {
      "cell_type": "code",
      "source": [
        "# Visualizando a matriz de confusão\n",
        "plt.figure(figsize=(8, 8))\n",
        "sns.heatmap(con_mat_df, annot=True, cmap=plt.cm.Blues)\n",
        "plt.tight_layout()\n",
        "plt.ylabel('True label')\n",
        "plt.xlabel('Predicted label')\n",
        "plt.show()"
      ],
      "metadata": {
        "colab": {
          "base_uri": "https://localhost:8080/",
          "height": 826
        },
        "id": "QiajkdS5nrzR",
        "outputId": "d8790312-e763-4bd3-f77b-d3ca51a2ed16"
      },
      "execution_count": 79,
      "outputs": [
        {
          "output_type": "display_data",
          "data": {
            "text/plain": [
              "<Figure size 800x800 with 2 Axes>"
            ],
            "image/png": "[encoded data removed]"
          },
          "metadata": {}
        }
      ]
    },
    {
      "cell_type": "code",
      "source": [
        "import numpy as np\n",
        "\n",
        "class ClassificationMetrics:\n",
        "    def __init__(self, confusion_matrix):\n",
        "        \"\"\"\n",
        "        Inicializa a classe com a matriz de confusão.\n",
        "        :param confusion_matrix: Matriz de confusão (numpy array)\n",
        "        \"\"\"\n",
        "        self.confusion_matrix = confusion_matrix\n",
        "        self.VP = np.diag(confusion_matrix)  # Verdadeiros positivos\n",
        "        self.FP = confusion_matrix.sum(axis=0) - self.VP  # Falsos positivos\n",
        "        self.FN = confusion_matrix.sum(axis=1) - self.VP  # Falsos negativos\n",
        "        self.VN = confusion_matrix.sum() - (self.VP + self.FP + self.FN)  # Verdadeiros negativos\n",
        "\n",
        "    def sensitivity(self):\n",
        "        \"\"\"\n",
        "        Calcula a sensibilidade (recall) para cada classe.\n",
        "        :return: Sensibilidade por classe (array)\n",
        "        \"\"\"\n",
        "        return np.round(self.VP / (self.VP + self.FN), decimals=2)\n",
        "\n",
        "    def specificity(self):\n",
        "        \"\"\"\n",
        "        Calcula a especificidade para cada classe.\n",
        "        :return: Especificidade por classe (array)\n",
        "        \"\"\"\n",
        "        return np.round(self.VN / (self.VN + self.FP), decimals=2)\n",
        "\n",
        "    def accuracy(self):\n",
        "        \"\"\"\n",
        "        Calcula a acurácia geral.\n",
        "        :return: Acurácia (float)\n",
        "        \"\"\"\n",
        "        total_correct = self.VP.sum()\n",
        "        total_elements = self.confusion_matrix.sum()\n",
        "        return np.round(total_correct / total_elements, decimals=2)\n",
        "\n",
        "    def precision(self):\n",
        "        \"\"\"\n",
        "        Calcula a precisão para cada classe.\n",
        "        :return: Precisão por classe (array)\n",
        "        \"\"\"\n",
        "        return np.round(self.VP / (self.VP + self.FP), decimals=2)\n",
        "\n",
        "    def f_score(self):\n",
        "        \"\"\"\n",
        "        Calcula o F-score para cada classe.\n",
        "        :return: F-score por classe (array)\n",
        "        \"\"\"\n",
        "        precision = self.precision()\n",
        "        sensitivity = self.sensitivity()\n",
        "        return np.round(2 * (precision * sensitivity) / (precision + sensitivity), decimals=2)\n",
        "\n",
        "    def report(self):\n",
        "        \"\"\"\n",
        "        Gera um relatório com todas as métricas.\n",
        "        :return: Dicionário contendo as métricas por classe\n",
        "        \"\"\"\n",
        "        return {\n",
        "            \"Sensitivity\": self.sensitivity(),\n",
        "            \"Specificity\": self.specificity(),\n",
        "            \"Accuracy\": self.accuracy(),\n",
        "            \"Precision\": self.precision(),\n",
        "            \"F-Score\": self.f_score(),\n",
        "        }"
      ],
      "metadata": {
        "id": "yaxCGsqh2UAR"
      },
      "execution_count": 80,
      "outputs": []
    },
    {
      "cell_type": "code",
      "source": [
        "# Criando a  instância da classe ClassificationMetrics\n",
        "metrics = ClassificationMetrics(con_mat)"
      ],
      "metadata": {
        "id": "9tJHz2eh2ZnS"
      },
      "execution_count": 81,
      "outputs": []
    },
    {
      "cell_type": "code",
      "source": [
        "# Obtendo as métricas\n",
        "report = metrics.report()"
      ],
      "metadata": {
        "id": "vJz9zl4N2u4j"
      },
      "execution_count": 82,
      "outputs": []
    },
    {
      "cell_type": "code",
      "source": [
        "# Exibindo relatório das métricas\n",
        "print(\"Relatório de Métricas:\")\n",
        "for metric, values in report.items():\n",
        "    if isinstance(values, np.ndarray):\n",
        "        print(f\"{metric}: {values.tolist()}\")\n",
        "    else:\n",
        "        print(f\"{metric}: {values}\")"
      ],
      "metadata": {
        "colab": {
          "base_uri": "https://localhost:8080/"
        },
        "id": "wORBW8IN2zVp",
        "outputId": "6342a645-5ea2-4c8d-9902-412382fef693"
      },
      "execution_count": 83,
      "outputs": [
        {
          "output_type": "stream",
          "name": "stdout",
          "text": [
            "Relatório de Métricas:\n",
            "Sensitivity: [1.0, 1.0, 0.99, 0.99, 0.99, 0.99, 0.98, 0.99, 0.99, 0.99]\n",
            "Specificity: [1.0, 1.0, 1.0, 1.0, 1.0, 1.0, 1.0, 1.0, 1.0, 1.0]\n",
            "Accuracy: 0.99\n",
            "Precision: [0.99, 0.99, 0.99, 1.0, 1.0, 0.99, 0.99, 0.99, 0.99, 0.99]\n",
            "F-Score: [0.99, 0.99, 0.99, 0.99, 0.99, 0.99, 0.98, 0.99, 0.99, 0.99]\n"
          ]
        }
      ]
    },
    {
      "cell_type": "code",
      "metadata": {
        "id": "iu2h0QRmDJjW"
      },
      "source": [
        "# Callback para TensorBoard\n",
        "logdir = 'logs/images'\n",
        "\n",
        "os.makedirs(logdir, exist_ok=True)\n",
        "\n",
        "file_writer = tf.summary.create_file_writer(logdir)"
      ],
      "execution_count": 84,
      "outputs": []
    },
    {
      "cell_type": "code",
      "metadata": {
        "id": "REXBQV3UX15X"
      },
      "source": [
        "def log_confusion_matrix(epoch, logs):\n",
        "    test_pred = np.argmax(model.predict(test_images), axis=-1)\n",
        "\n",
        "    con_mat = tf.math.confusion_matrix(labels=test_labels, predictions=test_pred).numpy()\n",
        "    con_mat_norm = np.around(con_mat.astype('float') / con_mat.sum(axis=1)[:, np.newaxis], decimals=2)\n",
        "\n",
        "    con_mat_df = pd.DataFrame(con_mat_norm, index=classes, columns=classes)\n",
        "\n",
        "    figure = plt.figure(figsize=(8, 8))\n",
        "    sns.heatmap(con_mat_df, annot=True, cmap=plt.cm.Blues)\n",
        "    plt.tight_layout()\n",
        "    plt.ylabel('True label')\n",
        "    plt.xlabel('Predicted label')\n",
        "\n",
        "    buf = io.BytesIO()\n",
        "    plt.savefig(buf, format='png')\n",
        "    plt.close(figure)\n",
        "    buf.seek(0)\n",
        "    image = tf.image.decode_png(buf.getvalue(), channels=4)\n",
        "    image = tf.expand_dims(image, 0)\n",
        "\n",
        "    with file_writer.as_default():\n",
        "        tf.summary.image(\"Confusion Matrix\", image, step=epoch)"
      ],
      "execution_count": 85,
      "outputs": []
    },
    {
      "cell_type": "code",
      "metadata": {
        "id": "924thjUKapvL"
      },
      "source": [
        "tensorboard_callback = tf.keras.callbacks.TensorBoard(log_dir=logdir)\n",
        "cm_callback = callbacks.LambdaCallback(on_epoch_end=log_confusion_matrix)"
      ],
      "execution_count": 86,
      "outputs": []
    },
    {
      "cell_type": "code",
      "metadata": {
        "id": "keKspwhadELy",
        "colab": {
          "base_uri": "https://localhost:8080/"
        },
        "outputId": "be20156b-3ff7-41ce-9826-68bfab98a530"
      },
      "source": [
        "# Treinando modelo com callback\n",
        "model.fit(train_images, train_labels, epochs=5, verbose=0,\n",
        "          validation_data=(test_images, test_labels),\n",
        "          callbacks=[tensorboard_callback, cm_callback])"
      ],
      "execution_count": null,
      "outputs": [
        {
          "output_type": "stream",
          "name": "stdout",
          "text": [
            "313/313 [==============================] - 2s 6ms/step\n",
            "313/313 [==============================] - 2s 6ms/step\n"
          ]
        }
      ]
    },
    {
      "cell_type": "code",
      "source": [
        "# Para iniciar o TensorBoard, execute o comando abaixo no terminal:\n",
        "%tensorboard --logdir logs/images"
      ],
      "metadata": {
        "id": "KZYKxAlir_u8"
      },
      "execution_count": null,
      "outputs": []
    }
  ]
}